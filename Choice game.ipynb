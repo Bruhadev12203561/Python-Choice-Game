{
 "cells": [
  {
   "cell_type": "code",
   "execution_count": 7,
   "id": "977f8e7d",
   "metadata": {},
   "outputs": [
    {
     "name": "stdout",
     "output_type": "stream",
     "text": [
      "\n",
      "You are stuck in a dungeon. You only have a knife with you.\n",
      "You enter a dark room with three doors. Do you go through door #1 ,#2 or #3?\n",
      "\n",
      "> 1+\n",
      "You stumble around and fall on a knife and die. Good job!\n"
     ]
    }
   ],
   "source": [
    "### Write your code here\n",
    "print(\"\"\"\n",
    "You are stuck in a dungeon. You only have a knife with you.\n",
    "You enter a dark room with three doors. Do you go through door #1 ,#2 or #3?\n",
    "\"\"\")\n",
    "\n",
    "door = input(\"> \")\n",
    "\n",
    "if(door == \"1\"):\n",
    "    print(\"There's a giant bear here eating a cheese cake.\")\n",
    "    print(\"What do you do?\")\n",
    "    print(\"1. Take the Cake\")\n",
    "    print(\"2. Scream at the bear\")\n",
    "    print(\"3. You try to kill the bear using the knife.\")\n",
    "\n",
    "    bear = input(\"> \")\n",
    "    if(bear == \"1\"):\n",
    "        print(\"The bear eats your face off. Good job, you're dead!\")\n",
    "    elif (bear == \"2\"):\n",
    "        print(\"The bear eats your legs off. Good job, you're dead!\")\n",
    "    elif(bear ==\"3\"):\n",
    "        print(\"Stupid! Trying to fight a bear using a knife. The bear enjoys eating your stupid brain. Good job, you're dead!\")\n",
    "    else:\n",
    "        print(\"You waited for the bear to finish his cheesecake.\")\n",
    "        print(\"Bear went away. You are free now.\")\n",
    "\n",
    "elif(door == \"2\"):\n",
    "\n",
    "    print(\"You stare into the endless abyss at Cthulhu's retiring spot.\")\n",
    "    print(\"You are presented with the following options. What do you choose?\")\n",
    "    print(\"1. Blueberries\")\n",
    "    print(\"2. Yellow jacket clothespins\")\n",
    "    print(\"3. Green jaggery marshmallows\")\n",
    "    insanity = input(\"> \")\n",
    "    if(insanity== \"1\" or insanity == \"2\"): \n",
    "        print(\"Your body survives powered by a mind of jello.\") \n",
    "        print(\"Good job! You are free now.\")\n",
    "    else:\n",
    "        print(\"The insanity rots your eyes into a pool of mud\") \n",
    "        print(\"Good job! You are blind now.\")\n",
    "        \n",
    "elif(door==\"3\"):\n",
    "    print(\"You entered a room with a witch brewing potions.\")\n",
    "    print(\"She asks 'What are you doing here young man?'\")\n",
    "    print(\"What do you do?\")\n",
    "    print(\"1. You tell her that you're lost, and want to get out of here.\")\n",
    "    print(\"2. You stab her to death using the knife.\")\n",
    "    print(\"3. You try to run away.\")\n",
    "    escape=input(\"> \")\n",
    "    if(escape == \"1\"):\n",
    "        print(\"She casts a spell on you and you become unconscious.\")\n",
    "        print(\"She brewed you into her potions.\")\n",
    "        print(\"Good job. You are dead now.\")\n",
    "    elif (escape == \"2\"):\n",
    "        print(\"You creep close to her and swing your knife at her face and then stab her to death.\")\n",
    "        print(\"Good job. You are free now(...but as a murderer).\")\n",
    "    else:\n",
    "        print(\"She casts a spell that freezes you in place\")\n",
    "        print(\"She brewed you into her potions.\")\n",
    "        print(\"Good job. You are dead now.\")\n",
    "else:\n",
    "    print(\"You stumble around and fall on a knife and die. Good job!\")    "
   ]
  },
  {
   "cell_type": "code",
   "execution_count": null,
   "id": "2568e9ff",
   "metadata": {},
   "outputs": [],
   "source": [
    "print(\"\"\"\n",
    "Welcome to the game!\n",
    "\"\"\")\n",
    "direction=input(\"> \")\n",
    "if direction==\"right\":\n",
    "    print(\"How many steps would you like to take?\")\n",
    "    "
   ]
  }
 ],
 "metadata": {
  "kernelspec": {
   "display_name": "Python 3 (ipykernel)",
   "language": "python",
   "name": "python3"
  },
  "language_info": {
   "codemirror_mode": {
    "name": "ipython",
    "version": 3
   },
   "file_extension": ".py",
   "mimetype": "text/x-python",
   "name": "python",
   "nbconvert_exporter": "python",
   "pygments_lexer": "ipython3",
   "version": "3.9.12"
  }
 },
 "nbformat": 4,
 "nbformat_minor": 5
}

